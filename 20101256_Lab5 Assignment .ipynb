{
 "cells": [
  {
   "cell_type": "code",
   "execution_count": 8,
   "metadata": {},
   "outputs": [
    {
     "name": "stdout",
     "output_type": "stream",
     "text": [
      "Integer\n",
      "1234\n",
      "=====================\n",
      "String\n",
      "Hello\n",
      "=====================\n",
      "Float\n",
      "4.0\n"
     ]
    }
   ],
   "source": [
    "#Question-1\n",
    "# subtask-1\n",
    "class DataType:\n",
    "    #subtask-2\n",
    "    def __init__(self,name,value):\n",
    "        self.name = name\n",
    "        self.value = value\n",
    " \n",
    "data_type1 = DataType('Integer', 1234)\n",
    "\n",
    "print(data_type1.name)\n",
    "print(data_type1.value)\n",
    "print('=====================')\n",
    "   \n",
    "data_type2 = DataType('String', 'Hello')\n",
    "\n",
    "print(data_type2.name)\n",
    "print(data_type2.value)\n",
    "print('=====================')\n",
    "\n",
    "data_type3 = DataType('Float', 4.0)\n",
    "\n",
    "print(data_type3.name)\n",
    "print(data_type3.value)\n",
    "\n"
   ]
  },
  {
   "cell_type": "code",
   "execution_count": 2,
   "metadata": {},
   "outputs": [
    {
     "name": "stdout",
     "output_type": "stream",
     "text": [
      "Name of this flower: Rose\n",
      "Color of this flower: Red\n",
      "Number of petal: 6\n",
      "=====================\n",
      "Name of this flower: Orchid\n",
      "Color of this flower: Purple\n",
      "Number of petal: 4\n",
      "Address: 1648265603208\n",
      "Address: 1648235243144\n",
      "they are different\n"
     ]
    }
   ],
   "source": [
    "#Question-2\n",
    "class Flower:\n",
    "    def __init__(self):\n",
    "        self.name = None\n",
    "        self.color = None\n",
    "        self.num_of_petals = None\n",
    "\n",
    "flower1 = Flower()\n",
    "flower1.name=\"Rose\"\n",
    "flower1.color=\"Red\"\n",
    "flower1.num_of_petal=6\n",
    "print(\"Name of this flower:\", flower1.name)\n",
    "print(\"Color of this flower:\",flower1.color)\n",
    "print(\"Number of petal:\",flower1.num_of_petal)\n",
    "print(\"=====================\")    \n",
    "\n",
    "flower2 = Flower()\n",
    "flower2.name=\"Orchid\"\n",
    "flower2.color=\"Purple\"\n",
    "flower2.num_of_petal=4\n",
    "print(\"Name of this flower:\",flower2.name)\n",
    "print(\"Color of this flower:\",flower2.color)\n",
    "print (\"Number of petal:\",flower2. num_of_petal)\n",
    "\n",
    "print(\"Address:\",id(flower1))\n",
    "print(\"Address:\",id(flower2))\n",
    "\n",
    "if id(flower1)==id(flower2):\n",
    "    print(\"they are same\")\n",
    "else:\n",
    "    print(\"they are different\")"
   ]
  },
  {
   "cell_type": "code",
   "execution_count": 2,
   "metadata": {},
   "outputs": [
    {
     "name": "stdout",
     "output_type": "stream",
     "text": [
      "Part 1:\n",
      "Name of President: Aladeen\n",
      "Designation: President Prime Minister Admiral General\n",
      "Numbner of wife: 100\n",
      "Is he/she a dictator: True\n",
      "Part 2:\n",
      "Name of President: Donald Trump\n",
      "Designation: President\n",
      "Numbner of wife: 1\n",
      "Is he/she a dictator: False\n",
      "previous information lost\n"
     ]
    }
   ],
   "source": [
    "#Question-3\n",
    "class Wadiya:\n",
    "    def __init__(self,name,designation,num_of_wife,dictator):\n",
    "        self.name = 'Aladeen'\n",
    "        self.designation = 'President Prime Minister Admiral General'\n",
    "        self.num_of_wife = 100\n",
    "        self.dictator = True\n",
    "\n",
    "#subtask-1\n",
    "wadiya = Wadiya('Aladeen','President Prime Minister Admiral General',100,True) \n",
    "#subtask-2  \n",
    "wadiya.name = 'Aladeen'\n",
    "wadiya.designation = 'President Prime Minister Admiral General'\n",
    "wadiya.num_of_wife = 100\n",
    "wadiya.dictator = True\n",
    "\n",
    "print(\"Part 1:\")  \n",
    "print(\"Name of President:\", wadiya.name)\n",
    "print(\"Designation:\",wadiya.designation)\n",
    "print(\"Numbner of wife:\",wadiya.num_of_wife)\n",
    "print(\"Is he/she a dictator:\",wadiya.dictator) \n",
    "\n",
    "#subtask-3\n",
    "wadiya = Wadiya('Donald Trump','President',1,False)\n",
    "wadiya.name = 'Donald Trump'\n",
    "wadiya.designation = 'President'\n",
    "wadiya.num_of_wife = 1\n",
    "wadiya.dictator = False\n",
    "\n",
    "print(\"Part 2:\")  \n",
    "print(\"Name of President:\", wadiya.name)\n",
    "print(\"Designation:\",wadiya.designation)\n",
    "print(\"Numbner of wife:\",wadiya.num_of_wife)\n",
    "print(\"Is he/she a dictator:\",wadiya.dictator) \n",
    "\n",
    "#subtask-4\n",
    "ad=id(wadiya)\n",
    "\n",
    "\n",
    "if id(wadiya)==ad:\n",
    "    print(\"previous information lost\")\n",
    "else:\n",
    "    print(\"No, changing had no effect on previous value\")"
   ]
  },
  {
   "cell_type": "code",
   "execution_count": 3,
   "metadata": {},
   "outputs": [
    {
     "name": "stdout",
     "output_type": "stream",
     "text": [
      "Heath Ledger\n",
      "Mind Game\n",
      "False\n",
      "=====================\n",
      "Joaquin Phoenix\n",
      "Laughing out Loud\n",
      "True\n",
      "=====================\n",
      "different\n",
      "same\n",
      "Address: 2195835745224\n",
      "Address: 2195835745288\n",
      "My explanation:'different'because the address of two objects are different\n",
      "Heath Ledger\n",
      "Heath Ledger\n",
      "My explanation:'Same'because both the attributes are same. Also, j1.name and j2.name has same string value\n"
     ]
    }
   ],
   "source": [
    "#Question-4\n",
    "class Joker:\n",
    "    #subtask-1\n",
    "    def __init__(self,name,power,is_he_psycho):\n",
    "        self.name = name\n",
    "        self.power = power\n",
    "        self.is_he_psycho = is_he_psycho\n",
    "\n",
    "j1 = Joker('Heath Ledger', 'Mind Game', False)\n",
    "print(j1.name)\n",
    "print(j1.power)\n",
    "print(j1.is_he_psycho)\n",
    "print('=====================')   \n",
    "\n",
    "j2 = Joker('Joaquin Phoenix', 'Laughing out Loud', True)\n",
    "print(j2.name)\n",
    "print(j2.power)\n",
    "print(j2.is_he_psycho)\n",
    "print('=====================')\n",
    "\n",
    "if j1 == j2:\n",
    "    print('same')\n",
    "else:\n",
    "    print('different')\n",
    "\n",
    "j2.name = 'Heath Ledger'\n",
    "if j1.name == j2.name:\n",
    "    print('same')\n",
    "else:\n",
    "    print('different')\n",
    "\n",
    "#subtask-2\n",
    "print(\"Address:\",id(j1))\n",
    "print(\"Address:\",id(j2))\n",
    "\n",
    "#different because the address of two objects are different \n",
    "print(\"My explanation:\"+\"'different'\"+ \"because the address of two objects are different\")\n",
    "\n",
    "#subtask-3\n",
    "print(j1.name)\n",
    "print(j2.name)\n",
    "\n",
    "#Same because both the attributes are same\n",
    "print(\"My explanation:\"+\"'Same'\"+ \"because both the attributes are same. Also, j1.name and j2.name has same string value\")\n"
   ]
  },
  {
   "cell_type": "code",
   "execution_count": 1,
   "metadata": {},
   "outputs": [
    {
     "name": "stdout",
     "output_type": "stream",
     "text": [
      "=======Team 1=======\n",
      "Pokemon 1: pikachu 90\n",
      "Pokemon 2: charmander 60\n",
      "Combined Power: 1500\n",
      "=======Team 2=======\n",
      "Pokemon 1: bulbasaur 80\n",
      "Pokemon 2: squirtle 70\n",
      "Combined Power: 1350\n"
     ]
    }
   ],
   "source": [
    "#Question-5\n",
    "#subtask-1\n",
    "class Pokemon:\n",
    "    def __init__(self,pokemon1_name,pokemon2_name,pokemon1_power,pokemon2_power,damage_rate):\n",
    "        self.pokemon1_name = pokemon1_name\n",
    "        self.pokemon2_name =  pokemon2_name\n",
    "        self.pokemon1_power = pokemon1_power\n",
    "        self.pokemon2_power = pokemon2_power\n",
    "        self.damage_rate = damage_rate\n",
    "\n",
    "team_pika = Pokemon('pikachu', 'charmander', 90, 60, 10)\n",
    "print('=======Team 1=======')\n",
    "print('Pokemon 1:',team_pika.pokemon1_name,team_pika.pokemon1_power)\n",
    "print('Pokemon 2:',team_pika.pokemon2_name,team_pika.pokemon2_power)\n",
    "pika_combined_power = (team_pika.pokemon1_power +team_pika.pokemon2_power) * team_pika.damage_rate\n",
    "print('Combined Power:', pika_combined_power)\n",
    "\n",
    "#subtask-2\n",
    "team_bulb = Pokemon('bulbasaur', 'squirtle', 80, 70,9)\n",
    "#subtask-3\n",
    "print('=======Team 2=======')\n",
    "print('Pokemon 1:',team_bulb.pokemon1_name,team_bulb.pokemon1_power)\n",
    "print('Pokemon 2:',team_bulb.pokemon2_name,team_bulb.pokemon2_power)\n",
    "bulb_combined_power = (team_bulb.pokemon1_power +team_bulb.pokemon2_power) * team_bulb.damage_rate\n",
    "print('Combined Power:', bulb_combined_power)\n",
    "\n"
   ]
  },
  {
   "cell_type": "code",
   "execution_count": null,
   "metadata": {},
   "outputs": [],
   "source": []
  }
 ],
 "metadata": {
  "kernelspec": {
   "display_name": "Python 3",
   "language": "python",
   "name": "python3"
  },
  "language_info": {
   "codemirror_mode": {
    "name": "ipython",
    "version": 3
   },
   "file_extension": ".py",
   "mimetype": "text/x-python",
   "name": "python",
   "nbconvert_exporter": "python",
   "pygments_lexer": "ipython3",
   "version": "3.7.6"
  }
 },
 "nbformat": 4,
 "nbformat_minor": 4
}
