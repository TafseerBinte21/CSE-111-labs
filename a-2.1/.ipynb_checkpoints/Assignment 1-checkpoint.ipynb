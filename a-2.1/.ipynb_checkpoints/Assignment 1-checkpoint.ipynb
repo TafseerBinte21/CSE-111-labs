{
 "cells": [
  {
   "cell_type": "code",
   "execution_count": 7,
   "metadata": {},
   "outputs": [
    {
     "name": "stdout",
     "output_type": "stream",
     "text": [
      "enter num=1\n",
      "enter num2=30\n",
      "15\n",
      "30\n"
     ]
    }
   ],
   "source": [
    "#Easy task1\n",
    "n1=int(input(\"enter num=\"))\n",
    "N=int(input(\"enter num2=\"))\n",
    "for i in range(n1,N+1):\n",
    "    if((i%3==0) & (i%5==0)):\n",
    "        print(i)\n",
    "  "
   ]
  },
  {
   "cell_type": "code",
   "execution_count": 2,
   "metadata": {},
   "outputs": [
    {
     "name": "stdout",
     "output_type": "stream",
     "text": [
      "enter number1=6\n",
      "enter number2=3\n",
      "enter number3=0\n",
      "maximum=a\n"
     ]
    }
   ],
   "source": [
    "#Easy task2\n",
    "a=int(input(\"enter number1=\"))\n",
    "b=int(input(\"enter number2=\"))\n",
    "c=int(input(\"enter number3=\"))\n",
    "if ((a>=b)) & ((a>=c)):\n",
    "    print (\"maximum=a\")\n",
    "elif ((b>=a)) & ((b>=c)):\n",
    "    print (\"maximum=b\")\n",
    "else:\n",
    "    print(\"maximum=c\")\n"
   ]
  },
  {
   "cell_type": "code",
   "execution_count": 3,
   "metadata": {},
   "outputs": [
    {
     "name": "stdout",
     "output_type": "stream",
     "text": [
      "enter mark=99\n",
      "grade is: A\n"
     ]
    }
   ],
   "source": [
    "#Easy task-3\n",
    "mark=int(input(\"enter mark=\"))\n",
    "if (mark>=90):\n",
    "    grade=\"A\"\n",
    "elif (mark>=85) & (mark<=89):\n",
    "    grade=\"A-\"\n",
    "elif (mark>=80) & (mark<=84):\n",
    "    grade=\"B+\"\n",
    "elif (mark>=75) & (mark<=79):\n",
    "    grade=\"B\"\n",
    "elif (mark>=70) & (mark<=74):\n",
    "    grade=\"B-\"\n",
    "elif (mark>=65) & (mark<=69):\n",
    "    grade=\"C+\"\n",
    "elif (mark>=60) & (mark<=64):\n",
    "    grade=\"C\"\n",
    "elif (mark>=57) & (mark<=59):\n",
    "    grade=\"C-\"\n",
    "elif (mark>=55) & (mark<=56):\n",
    "    grade=\"D+\"\n",
    "elif (mark>=52) & (mark<=54):\n",
    "    grade=\"D\"\n",
    "elif (mark>=50) & (mark<=51):\n",
    "    grade=\"D-\"\n",
    "else:\n",
    "    grade=\"F\"\n",
    "print(\"grade is:\", grade)      "
   ]
  },
  {
   "cell_type": "code",
   "execution_count": 4,
   "metadata": {},
   "outputs": [
    {
     "name": "stdout",
     "output_type": "stream",
     "text": [
      "enter a number=9\n",
      "9 is not a prime number\n"
     ]
    }
   ],
   "source": [
    "# Easy task-4\n",
    "num=int(input(\"enter a number=\"))\n",
    "\n",
    "if num>1:\n",
    "    for i in range(2,num):\n",
    "        if num%i==0:\n",
    "            print(num,\"is not a prime number\")\n",
    "            break\n",
    "    else:\n",
    "        print(num,\"is a prime number\")\n",
    "else: \n",
    "    print(num, \"is not a prime number\") \n",
    "        "
   ]
  },
  {
   "cell_type": "code",
   "execution_count": 2,
   "metadata": {},
   "outputs": [
    {
     "name": "stdout",
     "output_type": "stream",
     "text": [
      "0 1 1 2 3 5 8 13 21 34 "
     ]
    }
   ],
   "source": [
    "#Medium task-1\n",
    "def printFibonacciNumbers(n):\n",
    "    num1 = 0\n",
    "    num2 = 1\n",
    "    series = 0\n",
    "    for i in range(0,n):\n",
    "        print(series, end=' ');\n",
    "        num1 = num2;\n",
    "        num2 = series;\n",
    "        series = num1 + num2;\n",
    "printFibonacciNumbers(10) \n",
    "         "
   ]
  },
  {
   "cell_type": "code",
   "execution_count": 2,
   "metadata": {},
   "outputs": [
    {
     "name": "stdout",
     "output_type": "stream",
     "text": [
      "enter any num:12365\n"
     ]
    }
   ],
   "source": [
    "#Medium task=2\n",
    "num=int(input(\"enter any num:\"))\n",
    "Reverse = 0\n",
    "while(num > 0):\n",
    "    Reminder = num %10\n",
    "    Reverse = (Reverse *10) + Reminder\n",
    "    num = num //10\n",
    "\n"
   ]
  },
  {
   "cell_type": "code",
   "execution_count": 2,
   "metadata": {},
   "outputs": [
    {
     "name": "stdout",
     "output_type": "stream",
     "text": [
      "Please Enter any Num: 6\n",
      "Perfect Number 6\n"
     ]
    }
   ],
   "source": [
    "#Medium task=3\n",
    "Num = int(input(\"Please Enter any Num: \"))\n",
    "Sum = 0\n",
    "for i in range(1, Num):\n",
    "    if(Num % i == 0):\n",
    "        Sum = Sum + i\n",
    "if (Sum == Num):\n",
    "    print(\"Perfect Number\" ,Num)\n",
    "else:\n",
    "    print(\"not a Perfect Number\", Num)"
   ]
  },
  {
   "cell_type": "code",
   "execution_count": 1,
   "metadata": {},
   "outputs": [
    {
     "name": "stdout",
     "output_type": "stream",
     "text": [
      "enter any number=365\n",
      "total number of unique digits of the number= 3\n"
     ]
    }
   ],
   "source": [
    "#Hard task-1\n",
    "num=int(input(\"enter any number=\"))\n",
    "c=0\n",
    "while(num>0):\n",
    "    num=num//10\n",
    "    c=c+1\n",
    "print(\"total number of unique digits of the number=\", c)    "
   ]
  },
  {
   "cell_type": "code",
   "execution_count": 4,
   "metadata": {},
   "outputs": [
    {
     "name": "stdout",
     "output_type": "stream",
     "text": [
      "enter number of r=6\n",
      "      * \n",
      "     * * \n",
      "    * * * \n",
      "   * * * * \n",
      "  * * * * * \n"
     ]
    }
   ],
   "source": [
    "#Hard task-2\n",
    "r=int(input(\"enter number of r=\"))\n",
    "num=1\n",
    "s=r-1\n",
    "while num<r:\n",
    "        print( \" \"*s,\"* \"*num)\n",
    "        num+=1\n",
    "        s-=1"
   ]
  },
  {
   "cell_type": "code",
   "execution_count": 1,
   "metadata": {},
   "outputs": [
    {
     "name": "stdout",
     "output_type": "stream",
     "text": [
      "enter a num=44\n",
      "7\n"
     ]
    }
   ],
   "source": [
    "#Hard task-3 \n",
    "num=int(input(\"enter a num=\"))\n",
    "c=0\n",
    "d=0\n",
    "for i in range(0,num+1):\n",
    "    d=num%2\n",
    "    if d==1:\n",
    "       c+=1\n",
    "    num=num//2\n",
    "    if num==0:\n",
    "        break\n",
    "b=str(\"1\"*c)\n",
    "a=int(b,2)\n",
    "print(a)\n"
   ]
  },
  {
   "cell_type": "code",
   "execution_count": null,
   "metadata": {},
   "outputs": [],
   "source": []
  }
 ],
 "metadata": {
  "kernelspec": {
   "display_name": "Python 3",
   "language": "python",
   "name": "python3"
  },
  "language_info": {
   "codemirror_mode": {
    "name": "ipython",
    "version": 3
   },
   "file_extension": ".py",
   "mimetype": "text/x-python",
   "name": "python",
   "nbconvert_exporter": "python",
   "pygments_lexer": "ipython3",
   "version": "3.7.6"
  }
 },
 "nbformat": 4,
 "nbformat_minor": 4
}
