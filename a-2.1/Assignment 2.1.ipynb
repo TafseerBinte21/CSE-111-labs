{
 "cells": [
  {
   "cell_type": "code",
   "execution_count": 12,
   "metadata": {},
   "outputs": [
    {
     "name": "stdout",
     "output_type": "stream",
     "text": [
      "x=5\n",
      "y=2\n",
      "0.5\n"
     ]
    }
   ],
   "source": [
    "#easy task-1\n",
    "def divide(x,y):\n",
    "    \n",
    "    if y==0:\n",
    "        return 0\n",
    "    else:\n",
    "           f=x/y\n",
    "           d=x//y\n",
    "           return(f-d)\n",
    "  \n",
    "x=int(input(\"x=\"))\n",
    "y=int(input(\"y=\"))      \n",
    "print(divide(x,y))\n"
   ]
  },
  {
   "cell_type": "code",
   "execution_count": 2,
   "metadata": {},
   "outputs": [
    {
     "name": "stdout",
     "output_type": "stream",
     "text": [
      "enter h=175\n",
      "enter w=96\n",
      "BMI score is: 31.35\n",
      "You are obese\n"
     ]
    }
   ],
   "source": [
    "#easy task-2\n",
    "h=input(\"enter h=\")\n",
    "w=input(\"enter w=\")\n",
    "h=float(h)\n",
    "w=float(w)\n",
    "convert = h/100\n",
    "def anyThing(h,w):\n",
    "       \n",
    "    score=w/(convert*convert)\n",
    "    score=\"{:.2f}\".format(score)\n",
    "    score=float(score)\n",
    "    print(\"BMI score is:\",score)\n",
    "    if score<18.5:\n",
    "       print (\"You are Underweight\")\n",
    "    elif score>=18.5 and score<=24.9:\n",
    "        print (\"You are Normal\")\n",
    "    elif score>=25 and score<=30:\n",
    "        print (\"You are Overweight\")\n",
    "    else:\n",
    "        print(\"You are obese\")\n",
    "    \n",
    "anyThing(convert,w)   "
   ]
  },
  {
   "cell_type": "code",
   "execution_count": 4,
   "metadata": {},
   "outputs": [
    {
     "name": "stdout",
     "output_type": "stream",
     "text": [
      "20\n"
     ]
    }
   ],
   "source": [
    "#easy task-3\n",
    "def many(min,max,div):   \n",
    "    c=0\n",
    "    for i in range(min,max):\n",
    "        if i%div==0:\n",
    "           c+=i  \n",
    "    return c\n",
    "    \n",
    "print(many(0,10,2))  \n",
    "    "
   ]
  },
  {
   "cell_type": "code",
   "execution_count": 5,
   "metadata": {},
   "outputs": [
    {
     "name": "stdout",
     "output_type": "stream",
     "text": [
      "243.6\n"
     ]
    }
   ],
   "source": [
    "#medium task-1\n",
    "def food(menu,place=\"mohakhali\"):\n",
    "    if place==\"mohakhali\":\n",
    "       if menu==\"beef burger\":\n",
    "          total=170+40+(8/100*170)\n",
    "       elif menu==\"bbq chicken cheese burger\":\n",
    "           total=250+40+(8/100*170)\n",
    "       else:\n",
    "            total=200+40+(8/100*170)\n",
    "    else:\n",
    "       if menu==\"beef burger\":\n",
    "          total=170+60+(8/100*170)\n",
    "       elif menu==\"bbq chicken cheese burger\":\n",
    "           total=250+60+(8/100*170)\n",
    "       else:\n",
    "            total=200+60+(8/100*170)\n",
    "    return total \n",
    "print(food(\"beef burger\",\"mogbazar\"))      \n",
    "\n",
    "        \n",
    "   "
   ]
  },
  {
   "cell_type": "code",
   "execution_count": 4,
   "metadata": {},
   "outputs": [
    {
     "name": "stdout",
     "output_type": "stream",
     "text": [
      "enter email:bob@sheba.xyz\n",
      "new domain:sheba.xyz\n",
      "old domain:kaaj.com\n",
      "unchanged: bob@sheba.xyz\n"
     ]
    }
   ],
   "source": [
    "#medium task=2\n",
    "def dom(x,y,z=None):\n",
    "    a=x[:x.find(\"@\")]\n",
    "    b=x[x.find(\"@\")+1::]\n",
    "    if b==y:\n",
    "        print(\"unchanged: \"+x)\n",
    "    else:\n",
    "        print(\"changed: \"+a+\"@\"+y)\n",
    "dom(input(\"enter email:\"),input(\"new domain:\"),input(\"old domain:\"))            "
   ]
  },
  {
   "cell_type": "code",
   "execution_count": 2,
   "metadata": {},
   "outputs": [
    {
     "name": "stdout",
     "output_type": "stream",
     "text": [
      "Vowels: E,E,O.\n",
      "Total vowels in string= 3\n"
     ]
    }
   ],
   "source": [
    "#medium task-3\n",
    "def Vowel(a): \n",
    "\treturn a.upper() in ['A', 'E', 'I', 'O', 'U'] \n",
    "def countV(string): \n",
    "    c=0\n",
    "    v=\" \"\n",
    "   \n",
    "    for i in range(len(string)): \n",
    "        if Vowel(string[i]):\n",
    "           v=v+string[i]+\",\"\n",
    "           c+=1       \n",
    "           \n",
    "           \n",
    "    if c==0:\n",
    "         print(\"no vowels in string\")\n",
    "    else:\n",
    "        old=v\n",
    "        newList=list(v)\n",
    "        newList[len(v)-1]=\".\"\n",
    "        new=\"\".join(newList)\n",
    "        \n",
    "        print(\"Vowels:\" +new)\n",
    "        print(\"Total vowels in string=\",c) \n",
    "\n",
    "string=\"STEVE JOBS\"         \n",
    "countV(string)     \n",
    "  "
   ]
  },
  {
   "cell_type": "code",
   "execution_count": 3,
   "metadata": {},
   "outputs": [
    {
     "name": "stdout",
     "output_type": "stream",
     "text": [
      "enter a string:madam\n",
      "The string is a palindrome.\n"
     ]
    }
   ],
   "source": [
    "#medium task 4\n",
    "string=input(\"enter a string:\")\n",
    "reverse_String=reversed(string)\n",
    "if list(string) == list(reverse_String):\n",
    "   print(\"The string is a palindrome.\")\n",
    "else:\n",
    "   print(\"The string is not a palindrome.\")\n"
   ]
  },
  {
   "cell_type": "code",
   "execution_count": 3,
   "metadata": {},
   "outputs": [
    {
     "name": "stdout",
     "output_type": "stream",
     "text": [
      "Alice: 2000\n",
      "Alice: 2000, Bob: 22500\n"
     ]
    }
   ],
   "source": [
    "#hard task-1\n",
    "import datetime\n",
    "def bonusCount(*emp):\n",
    "    \n",
    "    for i in range(0,len(emp),3):\n",
    "        bonus=0\n",
    "        name=emp[i]\n",
    "        salary=int(emp[i+1])\n",
    "        \n",
    "        joiningDate=int(emp[i+2].split(\"-\")[0])\n",
    "        timeNow=datetime.datetime.now().year\n",
    "        yearservice=timeNow-joiningDate\n",
    "     \n",
    "        if yearservice<5:\n",
    "           bonus=int(10/100*salary)\n",
    "        elif yearservice<=10:\n",
    "           bonus=int((10/100*salary)+5000)\n",
    "        else:\n",
    "           bonus=int((15/100*salary+15000))\n",
    "        if i== len(emp)-3:   \n",
    "            print(name+\":\",bonus)\n",
    "        else:\n",
    "            print(name+\":\" ,bonus,end=\", \") \n",
    "bonusCount('Alice', 20000, '2017-03-21')             \n",
    "bonusCount('Alice', 20000, '2017-03-21', 'Bob', 50000, '2007-05-10')\n",
    "\n",
    "      "
   ]
  },
  {
   "cell_type": "code",
   "execution_count": 13,
   "metadata": {},
   "outputs": [
    {
     "name": "stdout",
     "output_type": "stream",
     "text": [
      "11 Year 10 Month 5 Days\n"
     ]
    }
   ],
   "source": [
    "#hard task 2\n",
    "def time(no_days):\n",
    "    years=int(no_days/365)\n",
    "    days=(no_days%365)\n",
    "    months=(days//30)\n",
    "    days=days%30\n",
    "    print(years,\"Year\",months,\"Month\",days,\"Days\")\n",
    "no_days =4320\n",
    "time(no_days)\n",
    "    \n",
    "    "
   ]
  },
  {
   "cell_type": "code",
   "execution_count": 4,
   "metadata": {},
   "outputs": [
    {
     "name": "stdout",
     "output_type": "stream",
     "text": [
      "my favourite animal is a dog.a dog has sharp teeth so that it can eat flesh very easily.do you know my pet dog's name?i love my pet very much.\n",
      "My favourite animal is a dog.A dog has sharp teeth so that it can eat flesh very easily.Do you know my pet dog's name?I love my pet very much.\n"
     ]
    }
   ],
   "source": [
    "#hard task-3\n",
    "def FixTheSentence(i):\n",
    "    i = i.capitalize()\n",
    "    length = len(i)\n",
    "    b = 0\n",
    "    newString= \"\"\n",
    "\n",
    "    for n in range(length):\n",
    "\n",
    "        if (b == 1 and i[n]!=' '):\n",
    "            \n",
    "            newString += i[n].capitalize()\n",
    "            b = 0\n",
    "\n",
    "        elif (i[n] == ' ' and n != 0):\n",
    "            if (i[n - 1] == '?' or i[n - 1] == '!' or i[n - 1] == '.'):\n",
    "                newString += i[n]\n",
    "                b = 1\n",
    "\n",
    "            else:\n",
    "                newString += i[n]\n",
    "\n",
    "        elif (n != length - 1 and i[n] == '.'):\n",
    "            b = 1\n",
    "            \n",
    "            newString += i[n]\n",
    "\n",
    "        elif (n != length - 1 and i[n] == '?'):\n",
    "            b = 1\n",
    "            \n",
    "            newString += i[n]\n",
    "\n",
    "        elif (n != length - 1 and i[n] == '!'):\n",
    "            b = 1\n",
    "           \n",
    "            newString += i[n]\n",
    "\n",
    "        elif (n != length - 1 and i[n] == 'i'):\n",
    "            if (i[n - 1] == ' ' and i[n + 1] == ' '):\n",
    "               \n",
    "                newString += i[n].capitalize()\n",
    "            else:\n",
    "               \n",
    "                newString += i[n]\n",
    "\n",
    "\n",
    "\n",
    "        else:\n",
    "            \n",
    "            newString += i[n]\n",
    "\n",
    "    return newString\n",
    "\n",
    "inputString = input()\n",
    "print(FixTheSentence(inputString))\n"
   ]
  },
  {
   "cell_type": "code",
   "execution_count": null,
   "metadata": {},
   "outputs": [],
   "source": []
  }
 ],
 "metadata": {
  "kernelspec": {
   "display_name": "Python 3",
   "language": "python",
   "name": "python3"
  },
  "language_info": {
   "codemirror_mode": {
    "name": "ipython",
    "version": 3
   },
   "file_extension": ".py",
   "mimetype": "text/x-python",
   "name": "python",
   "nbconvert_exporter": "python",
   "pygments_lexer": "ipython3",
   "version": "3.7.6"
  }
 },
 "nbformat": 4,
 "nbformat_minor": 4
}
