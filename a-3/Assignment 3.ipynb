{
 "cells": [
  {
   "cell_type": "code",
   "execution_count": 1,
   "metadata": {},
   "outputs": [
    {
     "name": "stdout",
     "output_type": "stream",
     "text": [
      "input a string=apple \n",
      "string with vowels= apple \n",
      "string without vowels and count of vowels: ppl  2\n"
     ]
    }
   ],
   "source": [
    "#easy task-1\n",
    "string=input(\"input a string=\")\n",
    "newS=string\n",
    "c=0\n",
    "v=\"\"\n",
    "vowels=(\"a\",\"e\",\"i\",\"o\",\"u\",\"A\",\"E\",\"I\",\"O\",\"U\")\n",
    "for i in string:\n",
    "    if i in vowels:\n",
    "        newS=newS.replace(i,\"\")\n",
    "        c+=1\n",
    "        v=v+i\n",
    "        count=c\n",
    "print(\"string with vowels=\",string)\n",
    "print(\"string without vowels and\"+\" count of vowels:\",newS,c)        \n"
   ]
  },
  {
   "cell_type": "code",
   "execution_count": 2,
   "metadata": {},
   "outputs": [
    {
     "name": "stdout",
     "output_type": "stream",
     "text": [
      "enter a string:abcba  \n",
      "FALSE\n"
     ]
    }
   ],
   "source": [
    "#easy task-2\n",
    "def palindrome(s): \n",
    "\n",
    "    a=s[::-1]\n",
    "    if s==a:\n",
    "       print(\"TRUE\")\n",
    "    else:\n",
    "       print(\"FALSE\")\n",
    "\n",
    "s=input(\"enter a string:\") \n",
    "palindrome(s)      "
   ]
  },
  {
   "cell_type": "code",
   "execution_count": 4,
   "metadata": {},
   "outputs": [
    {
     "name": "stdout",
     "output_type": "stream",
     "text": [
      "enter a string=tactful\n",
      "tactfully\n"
     ]
    }
   ],
   "source": [
    "#easy task 3\n",
    "def add(string1):  \n",
    "    length = len(string1)  \n",
    "  \n",
    "    if length >= 4:  \n",
    "       if string1[-3:] == 'ful':  \n",
    "            string1 += 'ly'  \n",
    "       else:  \n",
    "            string1 += 'ful'  \n",
    "  \n",
    "    return string1   \n",
    "\n",
    "s=input(\"enter a string=\") \n",
    "\n",
    "print(add(s,))  \n"
   ]
  },
  {
   "cell_type": "code",
   "execution_count": 5,
   "metadata": {},
   "outputs": [
    {
     "name": "stdout",
     "output_type": "stream",
     "text": [
      "enter string=ApplE \n",
      "apple \n"
     ]
    }
   ],
   "source": [
    "#medium-1\n",
    "s =input(\"enter string=\")\n",
    "lower=0\n",
    "upper=0\n",
    "for i in s: \n",
    "    if (i>='a'and i<='z'): \n",
    "        lower=lower+1                 \n",
    "    if (i>='A'and i<='Z'): \n",
    "        upper=upper+1 \n",
    "if upper>lower:\n",
    "    print(s.upper())  \n",
    "else:\n",
    "    print(s.lower())    \n",
    "\n"
   ]
  },
  {
   "cell_type": "code",
   "execution_count": 8,
   "metadata": {},
   "outputs": [
    {
     "name": "stdout",
     "output_type": "stream",
     "text": [
      "Hello\n",
      "WORD\n"
     ]
    }
   ],
   "source": [
    "#medium-2\n",
    "s=input()\n",
    "flag = True \n",
    "\n",
    "\n",
    "if s.isalpha()==flag:\n",
    "    print(\"WORD\")\n",
    "elif s.isnumeric()==flag:\n",
    "    print(\"NUMBER\")\n",
    "elif s.isalnum()==flag:\n",
    "    print(\"MIXED\")\n",
    "        "
   ]
  },
  {
   "cell_type": "code",
   "execution_count": 1,
   "metadata": {},
   "outputs": [
    {
     "name": "stdout",
     "output_type": "stream",
     "text": [
      "enter a string:baNgladEsh\n",
      "glad\n"
     ]
    }
   ],
   "source": [
    "#medium 3\n",
    "s=input(\"enter a string:\")\n",
    "letter=\"\"\n",
    "flag=False\n",
    "for i in s:\n",
    "    if ord(i)>=65 and ord(i)<=90:\n",
    "        if not flag:\n",
    "            flag= True\n",
    "        else:\n",
    "            flag=False\n",
    "    if flag and ord(i)>=97:\n",
    "        letter+=i\n",
    "if letter==\"\":\n",
    "   print(\"BLANK\")        \n",
    "else:\n",
    "   print(letter)        \n",
    "          "
   ]
  },
  {
   "cell_type": "code",
   "execution_count": 9,
   "metadata": {},
   "outputs": [
    {
     "name": "stdout",
     "output_type": "stream",
     "text": [
      "The book is not too good! \n",
      "The book is not excellent! \n"
     ]
    }
   ],
   "source": [
    "#medium-4\n",
    "def too_good(str1):\n",
    "  stoo = str1.find('too')\n",
    "  sgood = str1.find('good')\n",
    "  \n",
    "\n",
    "  if sgood > stoo and stoo>0 and sgood>0:\n",
    "    str1 = str1.replace(str1[stoo:(sgood+4)], 'excellent')\n",
    "    return str1\n",
    "  else:\n",
    "    return str1\n",
    "str1=input()\n",
    "print(too_good(str1))\n"
   ]
  },
  {
   "cell_type": "code",
   "execution_count": 10,
   "metadata": {},
   "outputs": [
    {
     "name": "stdout",
     "output_type": "stream",
     "text": [
      "enter a string:harry\n",
      "enter another string:hermione\n",
      "hrrhr\n"
     ]
    }
   ],
   "source": [
    "#hard task 1\n",
    "def commonConcat(s1, s2):   \n",
    "     \n",
    "     set1 = set(s1) \n",
    "     set2 = set(s2) \n",
    "  \n",
    "     commonChars = list(set1 & set2) \n",
    "     result = [ch for ch in s1 if ch  in commonChars] + [ch for ch in s2 if ch  in commonChars] \n",
    "     return(''.join(result))\n",
    "     \n",
    "\n",
    "\n",
    "s1 = input(\"enter a string:\") \n",
    "s2 = input(\"enter another string:\")\n",
    "\n",
    "print(commonConcat(s1, s2))"
   ]
  },
  {
   "cell_type": "code",
   "execution_count": 2,
   "metadata": {},
   "outputs": [
    {
     "name": "stdout",
     "output_type": "stream",
     "text": [
      "enter a string:fixprefixsuffix\n",
      "fix\n"
     ]
    }
   ],
   "source": [
    "#hard 2\n",
    "s=input(\"enter a string:\")\n",
    "start=\"\"\n",
    "subString=\"\"\n",
    "flag=False\n",
    "for i in range(0, int(len(s)/2+1),1):\n",
    "    start=start+s[i]\n",
    "    if s.endswith(start) :\n",
    "       subString=start\n",
    "       flag=True\n",
    "if flag:    \n",
    "    midString=s[len(subString):len(s)-len(subString)]\n",
    "   \n",
    "    if subString in midString:\n",
    "        print(subString)\n",
    "    else:\n",
    "        print(\"not palindrome substring\")\n",
    "else:\n",
    "    print(\"not palindrome substring\")\n",
    "    "
   ]
  },
  {
   "cell_type": "code",
   "execution_count": 1,
   "metadata": {},
   "outputs": [
    {
     "name": "stdout",
     "output_type": "stream",
     "text": [
      "enter password=OhMyBR@CU20\n",
      "ok\n"
     ]
    }
   ],
   "source": [
    "#HARD TASK 3\n",
    "p=input(\"enter password=\")\n",
    "lower=False\n",
    "upper=False\n",
    "digit=False\n",
    "special=False\n",
    "      \n",
    "for i in p:\n",
    "    if ord(i)==95 or ord(i)==36 or ord(i)==35 or ord(i)==64 :\n",
    "         special=True\n",
    "    elif i.isdigit()  :\n",
    "         digit=True\n",
    "    elif i==i.lower()  :\n",
    "         lower=True    \n",
    "    elif i==i.upper()  :\n",
    "         upper=True \n",
    "if lower and upper and digit and special:\n",
    "    print(\"ok\")\n",
    "if not lower:\n",
    "    print(\"lowercase missing\")\n",
    "if not upper:\n",
    "    print(\"uppercase missing\")    \n",
    "if not digit:\n",
    "    print(\"digit missing\")\n",
    "if not special:\n",
    "    print(\"special missing\")    \n"
   ]
  },
  {
   "cell_type": "code",
   "execution_count": null,
   "metadata": {},
   "outputs": [],
   "source": []
  }
 ],
 "metadata": {
  "kernelspec": {
   "display_name": "Python 3",
   "language": "python",
   "name": "python3"
  },
  "language_info": {
   "codemirror_mode": {
    "name": "ipython",
    "version": 3
   },
   "file_extension": ".py",
   "mimetype": "text/x-python",
   "name": "python",
   "nbconvert_exporter": "python",
   "pygments_lexer": "ipython3",
   "version": "3.7.6"
  }
 },
 "nbformat": 4,
 "nbformat_minor": 4
}
