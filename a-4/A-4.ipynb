{
 "cells": [
  {
   "cell_type": "code",
   "execution_count": null,
   "metadata": {},
   "outputs": [],
   "source": [
    "#easy task 1\n",
    "mylist=[]\n",
    "n=int(input(\"enter num:\"))\n",
    "for i in range(n):\n",
    "    numbers = int(input('Enter number: '))\n",
    "    mylist.append(numbers)\n",
    "a=mylist[::-1]\n",
    "\n",
    "print(\"reversed list=\",a)\n"
   ]
  },
  {
   "cell_type": "code",
   "execution_count": 3,
   "metadata": {},
   "outputs": [
    {
     "name": "stdout",
     "output_type": "stream",
     "text": [
      "enter num:6\n",
      "Enter number: 1\n",
      "Enter number: 3\n",
      "Enter number: 5\n",
      "Enter number: 7\n",
      "Enter number: 9\n",
      "Enter number: 10\n",
      "enter num:4\n",
      "Enter number: 2\n",
      "Enter number: 4\n",
      "Enter number: 6\n",
      "Enter number: 8\n",
      "[1, 3, 5, 7, 9, 2, 4, 6, 8]\n"
     ]
    }
   ],
   "source": [
    "#easy task 2\n",
    "mylist=[]\n",
    "n=int(input(\"enter num:\"))\n",
    "for i in range(n):\n",
    "    numbers = int(input('Enter number: '))\n",
    "    mylist.append(numbers)\n",
    "mylist1=[]\n",
    "n=int(input(\"enter num:\"))\n",
    "for i in range(n):\n",
    "    numbers = int(input('Enter number: '))\n",
    "    mylist1.append(numbers)\n",
    "    \n",
    "mylist.pop(5)\n",
    "mylist.extend(mylist1)   \n",
    "print(mylist)"
   ]
  },
  {
   "cell_type": "code",
   "execution_count": null,
   "metadata": {},
   "outputs": [],
   "source": [
    "#easy 3\n",
    "list=[]\n",
    "list.append(input(\"enter num:\"))\n",
    "i=1\n",
    "while i <10:\n",
    "    num=input(\"enter another num:\")\n",
    "    \n",
    "    if num in list:\n",
    "       print(\"duplicate\")\n",
    "    else:\n",
    "       list.append(num)\n",
    "       i+=1\n",
    "print(\"you have entered:\",end=\"\")\n",
    "for i in range(10):\n",
    "        \n",
    "    print(list[i], end =\" \")\n",
    "    \n"
   ]
  },
  {
   "cell_type": "code",
   "execution_count": 1,
   "metadata": {},
   "outputs": [
    {
     "name": "stdout",
     "output_type": "stream",
     "text": [
      "1\n",
      "2\n",
      "3\n",
      "4\n",
      "4\n",
      "STOP\n",
      "1 - 1 times\n",
      "2 - 1 times\n",
      "3 - 1 times\n",
      "4 - 2 times\n"
     ]
    }
   ],
   "source": [
    "#medium-1\n",
    "s=[]\n",
    "s1=[]\n",
    "n=input()\n",
    "while n!=\"STOP\":\n",
    "    s.append(int(n))\n",
    "    \n",
    "    if int(n) not in s1:\n",
    "        s1.append(int(n))\n",
    "    n=input()    \n",
    "        \n",
    "   \n",
    "for i in s1: \n",
    "      \n",
    "       a= s.count(i)\n",
    "       print(i,'-',a,'times')\n",
    "    \n",
    "        \n",
    "        "
   ]
  },
  {
   "cell_type": "code",
   "execution_count": 4,
   "metadata": {},
   "outputs": [
    {
     "name": "stdout",
     "output_type": "stream",
     "text": [
      "How many numbers: 4\n",
      "1 2 3\n",
      "4 5 6\n",
      "10 12 11\n",
      "0 1 3\n",
      "33\n",
      "['0', '1', '3']\n"
     ]
    }
   ],
   "source": [
    "#medium 2\n",
    "list = []\n",
    "num = int(input('How many numbers: '))\n",
    "max=0\n",
    "for i in range(num):\n",
    "   \n",
    "     sum=0\n",
    "     string=input()\n",
    "     list=string.split()\n",
    "     for i in list:\n",
    "         sum+=int(i)\n",
    "     if i==0 or sum>max:\n",
    "         max=sum\n",
    "         \n",
    "   \n",
    "print(max)    \n",
    "print(list)    \n"
   ]
  },
  {
   "cell_type": "code",
   "execution_count": 5,
   "metadata": {},
   "outputs": [
    {
     "name": "stdout",
     "output_type": "stream",
     "text": [
      "[6, 8, 10, 9, 12, 15, 18, 24, 30]\n"
     ]
    }
   ],
   "source": [
    "#medium-3\n",
    "from itertools import product\n",
    "\n",
    "list1=[2,3,6]\n",
    "list2=[3,4,5]\n",
    "\n",
    "print([num1*n for num1,n in product(list1,list2)])\n"
   ]
  },
  {
   "cell_type": "code",
   "execution_count": 1,
   "metadata": {},
   "outputs": [
    {
     "name": "stdout",
     "output_type": "stream",
     "text": [
      "3\n",
      "a,b,c,d,e,f,g,h,i,j,k,l,m,n\n",
      "[['a', 'd', 'g', 'j', 'm'], ['b', 'e', 'h', 'k', 'n'], ['c', 'f', 'i', 'l']]\n"
     ]
    }
   ],
   "source": [
    "#medium-4\n",
    "n=int(input())\n",
    "inputString = input()\n",
    "inputString = inputString.translate({ord(','): None})\n",
    "stringLength=(len(inputString))\n",
    " \n",
    " \n",
    "finalList=[]\n",
    "a=0\n",
    " \n",
    "for i in range(0,n):\n",
    "  tlist = []\n",
    "  for x in range(a,stringLength, n):\n",
    "    tlist.append(inputString[x])\n",
    "  finalList.append(tlist)\n",
    "  a=a+1\n",
    " \n",
    "print(finalList)\n",
    " \n",
    " \n",
    " "
   ]
  },
  {
   "cell_type": "code",
   "execution_count": null,
   "metadata": {},
   "outputs": [
    {
     "name": "stdout",
     "output_type": "stream",
     "text": [
      "1 4 2 3\n",
      "UB jumper\n"
     ]
    }
   ],
   "source": [
    "#hard-1\n",
    "string=input()\n",
    "a=\"stop\"\n",
    "while not(a==\"string\"):\n",
    "    list=string.split()\n",
    "\n",
    "    diff=len(list)-1\n",
    "    flag=False\n",
    "    for i in range(0,len(list)-1,1):\n",
    "        d=abs(int(list[i])-int(list[i+1]))\n",
    "        if (d==1 or d==diff):\n",
    "            flag= True\n",
    "            break\n",
    "            \n",
    "       \n",
    "    if flag:\n",
    "        print(\"UB jumper\")\n",
    "    else:\n",
    "        print(\"Not UB Jumper\")\n",
    "    string=input()    "
   ]
  },
  {
   "cell_type": "code",
   "execution_count": 3,
   "metadata": {},
   "outputs": [
    {
     "name": "stdout",
     "output_type": "stream",
     "text": [
      "Bracu1234\n",
      "acruB1324\n"
     ]
    }
   ],
   "source": [
    "#hard-2\n",
    "def ToString(str):\n",
    " \n",
    "    str1 = \"\"\n",
    "    for i in str:\n",
    "        str1 += i\n",
    "    return str1\n",
    " \n",
    "n = input()\n",
    "smallList=[]\n",
    "bigList=[]\n",
    "oddList=[]\n",
    "evenList=[]\n",
    " \n",
    "for i in n:\n",
    "    if(i >= 'a' and i <='z'):\n",
    "        smallList.append(i)\n",
    "    elif(i >= 'A' and i<='Z'):\n",
    "        bigList.append(i)\n",
    "    else:\n",
    "        a = int(i)\n",
    "        if(a%2==0):\n",
    "            evenList.append(i)\n",
    "        else:\n",
    "            oddList.append(i)\n",
    " \n",
    "smallList.sort()\n",
    "bigList.sort()\n",
    "oddList.sort()\n",
    "evenList.sort()\n",
    " \n",
    "list = smallList+bigList+oddList+evenList\n",
    " \n",
    " \n",
    " \n",
    " \n",
    "print(ToString(list))"
   ]
  },
  {
   "cell_type": "code",
   "execution_count": 2,
   "metadata": {},
   "outputs": [
    {
     "name": "stdout",
     "output_type": "stream",
     "text": [
      "5\n",
      "2\n",
      "rounds:0\n",
      "rounds:4\n",
      "rounds:5\n",
      "rounds:1\n",
      "rounds:0\n",
      "1\n"
     ]
    }
   ],
   "source": [
    "#hard 3\n",
    "\n",
    "n=int(input())\n",
    "k=int(input())\n",
    "c=0\n",
    "list=[]\n",
    "list1=[]\n",
    "\n",
    "while c<n:\n",
    "    list.append(int(input(\"rounds:\")))\n",
    "    c+=1\n",
    "    \n",
    "for i in list:\n",
    "    i=k+i\n",
    "    if i<=5:\n",
    "        list1.append(i)\n",
    "\n",
    "team=len(list1)//3\n",
    "print(team)   \n",
    "        "
   ]
  },
  {
   "cell_type": "code",
   "execution_count": null,
   "metadata": {},
   "outputs": [],
   "source": []
  }
 ],
 "metadata": {
  "kernelspec": {
   "display_name": "Python 3",
   "language": "python",
   "name": "python3"
  },
  "language_info": {
   "codemirror_mode": {
    "name": "ipython",
    "version": 3
   },
   "file_extension": ".py",
   "mimetype": "text/x-python",
   "name": "python",
   "nbconvert_exporter": "python",
   "pygments_lexer": "ipython3",
   "version": "3.7.6"
  }
 },
 "nbformat": 4,
 "nbformat_minor": 4
}
